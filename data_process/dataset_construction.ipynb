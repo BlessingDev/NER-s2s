{
 "cells": [
  {
   "cell_type": "markdown",
   "id": "f6867c58",
   "metadata": {},
   "source": [
    "# Decider 생성을 위한 데이터셋 생성 과정\n",
    "\n",
    "1. 데이터셋에서 일부를 추출(100개 예정)\n",
    "2. 사용할 언어 모델 정하기 (Llama3.2-8B)\n",
    "3. 해당 언어 모델 토크나이저로 json 출력 분할\n",
    "4. 각 상태가 변하는 순간을 레이블\n",
    "\n",
    "레이블해주어야 할 것은 각 상태가 변하는 순간에 어떤 질문이 들어가는지와 그때의 답."
   ]
  },
  {
   "cell_type": "markdown",
   "id": "9bf27141",
   "metadata": {},
   "source": [
    "# 데이터셋 추출"
   ]
  },
  {
   "cell_type": "code",
   "execution_count": 1,
   "id": "245e3d8b",
   "metadata": {},
   "outputs": [],
   "source": [
    "import pandas as pd\n",
    "\n",
    "df = pd.read_csv(\"/workspace/datas/few-nerd/supervised/train.preprocessed.csv\")"
   ]
  },
  {
   "cell_type": "code",
   "execution_count": 2,
   "id": "1e677fee",
   "metadata": {},
   "outputs": [],
   "source": [
    "df_100 = df.sample(100)"
   ]
  },
  {
   "cell_type": "code",
   "execution_count": 3,
   "id": "89b58905",
   "metadata": {},
   "outputs": [],
   "source": [
    "df_100.to_csv(\"/workspace/datas/few-nerd/supervised/train.sampled.csv\", index=False)"
   ]
  },
  {
   "cell_type": "markdown",
   "id": "3a12e691",
   "metadata": {},
   "source": [
    "# 토크나이저로 json 분할"
   ]
  },
  {
   "cell_type": "code",
   "execution_count": 4,
   "id": "450879a4",
   "metadata": {},
   "outputs": [
    {
     "name": "stderr",
     "output_type": "stream",
     "text": [
      "/opt/conda/envs/ailive/lib/python3.10/site-packages/tqdm/auto.py:21: TqdmWarning: IProgress not found. Please update jupyter and ipywidgets. See https://ipywidgets.readthedocs.io/en/stable/user_install.html\n",
      "  from .autonotebook import tqdm as notebook_tqdm\n"
     ]
    }
   ],
   "source": [
    "from transformers import AutoTokenizer\n",
    "\n",
    "tokenizer = AutoTokenizer.from_pretrained(\"meta-llama/Llama-3.1-8B-Instruct\")"
   ]
  },
  {
   "cell_type": "code",
   "execution_count": 32,
   "id": "95252dd6",
   "metadata": {},
   "outputs": [],
   "source": [
    "import pandas as pd\n",
    "\n",
    "df_100 = pd.read_csv(\"/workspace/datas/few-nerd/supervised/train.sampled.csv\")"
   ]
  },
  {
   "cell_type": "code",
   "execution_count": 7,
   "id": "1606ef47",
   "metadata": {},
   "outputs": [],
   "source": [
    "token_id_list = tokenizer.encode(df_100[\"NER\"][0], add_special_tokens=False)"
   ]
  },
  {
   "cell_type": "markdown",
   "id": "2e1f0cbc",
   "metadata": {},
   "source": [
    "token id list에서 하나씩 가져다가 길이만큼 json을 슬라이싱하여 decoding하면 생성 과정 시뮬레이션 완성."
   ]
  },
  {
   "cell_type": "code",
   "execution_count": 33,
   "id": "7cc892f1",
   "metadata": {},
   "outputs": [],
   "source": [
    "token_id_list = []\n",
    "for text in df_100[\"NER\"]:\n",
    "    token_id_list.append(tokenizer.encode(text, add_special_tokens=False))"
   ]
  },
  {
   "cell_type": "code",
   "execution_count": 34,
   "id": "04867ed9",
   "metadata": {},
   "outputs": [
    {
     "name": "stdout",
     "output_type": "stream",
     "text": [
      "Max length of tokenized NER: 66\n"
     ]
    }
   ],
   "source": [
    "max_length = max([len(ids) for ids in token_id_list])\n",
    "\n",
    "print(f\"Max length of tokenized NER: {max_length}\")"
   ]
  },
  {
   "cell_type": "code",
   "execution_count": 35,
   "id": "0ca38374",
   "metadata": {},
   "outputs": [],
   "source": [
    "token_list = token_id_list[0]\n",
    "\n",
    "generation_list = []\n",
    "for idx in range(len(token_list)):\n",
    "    gen_str = tokenizer.decode(token_list[:idx+1], skip_special_tokens=True)\n",
    "    generation_list.append(gen_str)"
   ]
  },
  {
   "cell_type": "code",
   "execution_count": 9,
   "id": "de628504",
   "metadata": {},
   "outputs": [
    {
     "data": {
      "text/plain": [
       "[\"{'\",\n",
       " \"{'other\",\n",
       " \"{'other':\",\n",
       " \"{'other': ['\",\n",
       " \"{'other': ['Mah\",\n",
       " \"{'other': ['Mahab\",\n",
       " \"{'other': ['Mahabhar\",\n",
       " \"{'other': ['Mahabharata\",\n",
       " \"{'other': ['Mahabharata'],\",\n",
       " \"{'other': ['Mahabharata'], '\",\n",
       " \"{'other': ['Mahabharata'], 'location\",\n",
       " \"{'other': ['Mahabharata'], 'location':\",\n",
       " \"{'other': ['Mahabharata'], 'location': ['\",\n",
       " \"{'other': ['Mahabharata'], 'location': ['K\",\n",
       " \"{'other': ['Mahabharata'], 'location': ['Kich\",\n",
       " \"{'other': ['Mahabharata'], 'location': ['Kichaka\",\n",
       " \"{'other': ['Mahabharata'], 'location': ['Kichaka',\",\n",
       " \"{'other': ['Mahabharata'], 'location': ['Kichaka', '\",\n",
       " \"{'other': ['Mahabharata'], 'location': ['Kichaka', 'Sh\",\n",
       " \"{'other': ['Mahabharata'], 'location': ['Kichaka', 'Shail\",\n",
       " \"{'other': ['Mahabharata'], 'location': ['Kichaka', 'Shailoda\",\n",
       " \"{'other': ['Mahabharata'], 'location': ['Kichaka', 'Shailoda']}\"]"
      ]
     },
     "execution_count": 9,
     "metadata": {},
     "output_type": "execute_result"
    }
   ],
   "source": [
    "generation_list"
   ]
  },
  {
   "cell_type": "code",
   "execution_count": 18,
   "id": "6edbda37",
   "metadata": {},
   "outputs": [
    {
     "data": {
      "text/plain": [
       "34"
      ]
     },
     "execution_count": 18,
     "metadata": {},
     "output_type": "execute_result"
    }
   ],
   "source": [
    "len(generation_list)"
   ]
  },
  {
   "cell_type": "code",
   "execution_count": 19,
   "id": "aaecd98e",
   "metadata": {},
   "outputs": [
    {
     "data": {
      "text/plain": [
       "34"
      ]
     },
     "execution_count": 19,
     "metadata": {},
     "output_type": "execute_result"
    }
   ],
   "source": [
    "len(token_list)"
   ]
  },
  {
   "cell_type": "code",
   "execution_count": 10,
   "id": "3f1d1c97",
   "metadata": {},
   "outputs": [
    {
     "data": {
      "text/html": [
       "<div>\n",
       "<style scoped>\n",
       "    .dataframe tbody tr th:only-of-type {\n",
       "        vertical-align: middle;\n",
       "    }\n",
       "\n",
       "    .dataframe tbody tr th {\n",
       "        vertical-align: top;\n",
       "    }\n",
       "\n",
       "    .dataframe thead th {\n",
       "        text-align: right;\n",
       "    }\n",
       "</style>\n",
       "<table border=\"1\" class=\"dataframe\">\n",
       "  <thead>\n",
       "    <tr style=\"text-align: right;\">\n",
       "      <th></th>\n",
       "      <th>Sentence</th>\n",
       "      <th>NER</th>\n",
       "    </tr>\n",
       "  </thead>\n",
       "  <tbody>\n",
       "    <tr>\n",
       "      <th>0</th>\n",
       "      <td>The Mahabharata refers to the Kichaka bamboos ...</td>\n",
       "      <td>{'other': ['Mahabharata'], 'location': ['Kicha...</td>\n",
       "    </tr>\n",
       "    <tr>\n",
       "      <th>1</th>\n",
       "      <td>In 2007 , he was one of the nominees of BATAS ...</td>\n",
       "      <td>{'organization': ['BATAS']}</td>\n",
       "    </tr>\n",
       "    <tr>\n",
       "      <th>2</th>\n",
       "      <td>In late mitosis , Cdc6 protein joins the bound...</td>\n",
       "      <td>{'other': ['Cdc6', 'ORC', 'Cdt1-Mcm2-7']}</td>\n",
       "    </tr>\n",
       "    <tr>\n",
       "      <th>3</th>\n",
       "      <td>In the times of Khmelnytsky Uprising it was ta...</td>\n",
       "      <td>{'event': ['Khmelnytsky Uprising'], 'organizat...</td>\n",
       "    </tr>\n",
       "    <tr>\n",
       "      <th>4</th>\n",
       "      <td>At the end of its run , the film 's final dome...</td>\n",
       "      <td>{'other': ['$']}</td>\n",
       "    </tr>\n",
       "    <tr>\n",
       "      <th>...</th>\n",
       "      <td>...</td>\n",
       "      <td>...</td>\n",
       "    </tr>\n",
       "    <tr>\n",
       "      <th>95</th>\n",
       "      <td>During Winter 2015 , Adekugbe was invited to t...</td>\n",
       "      <td>{'person': ['Adekugbe'], 'location': ['English...</td>\n",
       "    </tr>\n",
       "    <tr>\n",
       "      <th>96</th>\n",
       "      <td>Someone who breaks the law should be punished ...</td>\n",
       "      <td>{}</td>\n",
       "    </tr>\n",
       "    <tr>\n",
       "      <th>97</th>\n",
       "      <td>Domela Nieuwenhuis was elected to the House of...</td>\n",
       "      <td>{'person': ['Domela Nieuwenhuis'], 'organizati...</td>\n",
       "    </tr>\n",
       "    <tr>\n",
       "      <th>98</th>\n",
       "      <td>Under third-year head coach Glenn Martin , the...</td>\n",
       "      <td>{'person': ['Glenn Martin']}</td>\n",
       "    </tr>\n",
       "    <tr>\n",
       "      <th>99</th>\n",
       "      <td>The target was probably in the Portsmouth area .</td>\n",
       "      <td>{'location': ['Portsmouth']}</td>\n",
       "    </tr>\n",
       "  </tbody>\n",
       "</table>\n",
       "<p>100 rows × 2 columns</p>\n",
       "</div>"
      ],
      "text/plain": [
       "                                             Sentence  \\\n",
       "0   The Mahabharata refers to the Kichaka bamboos ...   \n",
       "1   In 2007 , he was one of the nominees of BATAS ...   \n",
       "2   In late mitosis , Cdc6 protein joins the bound...   \n",
       "3   In the times of Khmelnytsky Uprising it was ta...   \n",
       "4   At the end of its run , the film 's final dome...   \n",
       "..                                                ...   \n",
       "95  During Winter 2015 , Adekugbe was invited to t...   \n",
       "96  Someone who breaks the law should be punished ...   \n",
       "97  Domela Nieuwenhuis was elected to the House of...   \n",
       "98  Under third-year head coach Glenn Martin , the...   \n",
       "99   The target was probably in the Portsmouth area .   \n",
       "\n",
       "                                                  NER  \n",
       "0   {'other': ['Mahabharata'], 'location': ['Kicha...  \n",
       "1                         {'organization': ['BATAS']}  \n",
       "2           {'other': ['Cdc6', 'ORC', 'Cdt1-Mcm2-7']}  \n",
       "3   {'event': ['Khmelnytsky Uprising'], 'organizat...  \n",
       "4                                    {'other': ['$']}  \n",
       "..                                                ...  \n",
       "95  {'person': ['Adekugbe'], 'location': ['English...  \n",
       "96                                                 {}  \n",
       "97  {'person': ['Domela Nieuwenhuis'], 'organizati...  \n",
       "98                       {'person': ['Glenn Martin']}  \n",
       "99                       {'location': ['Portsmouth']}  \n",
       "\n",
       "[100 rows x 2 columns]"
      ]
     },
     "execution_count": 10,
     "metadata": {},
     "output_type": "execute_result"
    }
   ],
   "source": [
    "df_100"
   ]
  },
  {
   "cell_type": "code",
   "execution_count": 36,
   "id": "e578d723",
   "metadata": {},
   "outputs": [],
   "source": [
    "sample_num = 100\n",
    "\n",
    "generation_list = []\n",
    "sentence_list = []\n",
    "for idx in range(sample_num):\n",
    "    token_list = token_id_list[idx]\n",
    "    for gen_idx in range(len(token_list)):\n",
    "        gen_str = tokenizer.decode(token_list[:gen_idx+1], skip_special_tokens=True)\n",
    "        generation_list.append(gen_str)\n",
    "    \n",
    "    # 마지막 생성 문장을 다시 넣어서 S_value^f에서 S_e로 가는 상태 전이를 표현한다.\n",
    "    generation_list.append(generation_list[-1])\n",
    "    \n",
    "    sentence_list.extend([df_100.iloc[idx][\"Sentence\"]] * (len(token_list) + 1))"
   ]
  },
  {
   "cell_type": "code",
   "execution_count": 37,
   "id": "4c59125c",
   "metadata": {},
   "outputs": [],
   "source": [
    "df_100_labeled = pd.DataFrame({\"sentence\": sentence_list, \"generation\": generation_list})"
   ]
  },
  {
   "cell_type": "code",
   "execution_count": 40,
   "id": "fb9ad6f9",
   "metadata": {},
   "outputs": [
    {
     "data": {
      "text/html": [
       "<div>\n",
       "<style scoped>\n",
       "    .dataframe tbody tr th:only-of-type {\n",
       "        vertical-align: middle;\n",
       "    }\n",
       "\n",
       "    .dataframe tbody tr th {\n",
       "        vertical-align: top;\n",
       "    }\n",
       "\n",
       "    .dataframe thead th {\n",
       "        text-align: right;\n",
       "    }\n",
       "</style>\n",
       "<table border=\"1\" class=\"dataframe\">\n",
       "  <thead>\n",
       "    <tr style=\"text-align: right;\">\n",
       "      <th></th>\n",
       "      <th>sentence</th>\n",
       "      <th>generation</th>\n",
       "    </tr>\n",
       "  </thead>\n",
       "  <tbody>\n",
       "    <tr>\n",
       "      <th>0</th>\n",
       "      <td>The Mahabharata refers to the Kichaka bamboos ...</td>\n",
       "      <td>{'</td>\n",
       "    </tr>\n",
       "    <tr>\n",
       "      <th>1</th>\n",
       "      <td>The Mahabharata refers to the Kichaka bamboos ...</td>\n",
       "      <td>{'other</td>\n",
       "    </tr>\n",
       "    <tr>\n",
       "      <th>2</th>\n",
       "      <td>The Mahabharata refers to the Kichaka bamboos ...</td>\n",
       "      <td>{'other':</td>\n",
       "    </tr>\n",
       "    <tr>\n",
       "      <th>3</th>\n",
       "      <td>The Mahabharata refers to the Kichaka bamboos ...</td>\n",
       "      <td>{'other': ['</td>\n",
       "    </tr>\n",
       "    <tr>\n",
       "      <th>4</th>\n",
       "      <td>The Mahabharata refers to the Kichaka bamboos ...</td>\n",
       "      <td>{'other': ['Mah</td>\n",
       "    </tr>\n",
       "    <tr>\n",
       "      <th>5</th>\n",
       "      <td>The Mahabharata refers to the Kichaka bamboos ...</td>\n",
       "      <td>{'other': ['Mahab</td>\n",
       "    </tr>\n",
       "    <tr>\n",
       "      <th>6</th>\n",
       "      <td>The Mahabharata refers to the Kichaka bamboos ...</td>\n",
       "      <td>{'other': ['Mahabhar</td>\n",
       "    </tr>\n",
       "    <tr>\n",
       "      <th>7</th>\n",
       "      <td>The Mahabharata refers to the Kichaka bamboos ...</td>\n",
       "      <td>{'other': ['Mahabharata</td>\n",
       "    </tr>\n",
       "    <tr>\n",
       "      <th>8</th>\n",
       "      <td>The Mahabharata refers to the Kichaka bamboos ...</td>\n",
       "      <td>{'other': ['Mahabharata'],</td>\n",
       "    </tr>\n",
       "    <tr>\n",
       "      <th>9</th>\n",
       "      <td>The Mahabharata refers to the Kichaka bamboos ...</td>\n",
       "      <td>{'other': ['Mahabharata'], '</td>\n",
       "    </tr>\n",
       "    <tr>\n",
       "      <th>10</th>\n",
       "      <td>The Mahabharata refers to the Kichaka bamboos ...</td>\n",
       "      <td>{'other': ['Mahabharata'], 'location</td>\n",
       "    </tr>\n",
       "    <tr>\n",
       "      <th>11</th>\n",
       "      <td>The Mahabharata refers to the Kichaka bamboos ...</td>\n",
       "      <td>{'other': ['Mahabharata'], 'location':</td>\n",
       "    </tr>\n",
       "    <tr>\n",
       "      <th>12</th>\n",
       "      <td>The Mahabharata refers to the Kichaka bamboos ...</td>\n",
       "      <td>{'other': ['Mahabharata'], 'location': ['</td>\n",
       "    </tr>\n",
       "    <tr>\n",
       "      <th>13</th>\n",
       "      <td>The Mahabharata refers to the Kichaka bamboos ...</td>\n",
       "      <td>{'other': ['Mahabharata'], 'location': ['K</td>\n",
       "    </tr>\n",
       "    <tr>\n",
       "      <th>14</th>\n",
       "      <td>The Mahabharata refers to the Kichaka bamboos ...</td>\n",
       "      <td>{'other': ['Mahabharata'], 'location': ['Kich</td>\n",
       "    </tr>\n",
       "    <tr>\n",
       "      <th>15</th>\n",
       "      <td>The Mahabharata refers to the Kichaka bamboos ...</td>\n",
       "      <td>{'other': ['Mahabharata'], 'location': ['Kichaka</td>\n",
       "    </tr>\n",
       "    <tr>\n",
       "      <th>16</th>\n",
       "      <td>The Mahabharata refers to the Kichaka bamboos ...</td>\n",
       "      <td>{'other': ['Mahabharata'], 'location': ['Kicha...</td>\n",
       "    </tr>\n",
       "    <tr>\n",
       "      <th>17</th>\n",
       "      <td>The Mahabharata refers to the Kichaka bamboos ...</td>\n",
       "      <td>{'other': ['Mahabharata'], 'location': ['Kicha...</td>\n",
       "    </tr>\n",
       "    <tr>\n",
       "      <th>18</th>\n",
       "      <td>The Mahabharata refers to the Kichaka bamboos ...</td>\n",
       "      <td>{'other': ['Mahabharata'], 'location': ['Kicha...</td>\n",
       "    </tr>\n",
       "    <tr>\n",
       "      <th>19</th>\n",
       "      <td>The Mahabharata refers to the Kichaka bamboos ...</td>\n",
       "      <td>{'other': ['Mahabharata'], 'location': ['Kicha...</td>\n",
       "    </tr>\n",
       "    <tr>\n",
       "      <th>20</th>\n",
       "      <td>The Mahabharata refers to the Kichaka bamboos ...</td>\n",
       "      <td>{'other': ['Mahabharata'], 'location': ['Kicha...</td>\n",
       "    </tr>\n",
       "    <tr>\n",
       "      <th>21</th>\n",
       "      <td>The Mahabharata refers to the Kichaka bamboos ...</td>\n",
       "      <td>{'other': ['Mahabharata'], 'location': ['Kicha...</td>\n",
       "    </tr>\n",
       "    <tr>\n",
       "      <th>22</th>\n",
       "      <td>The Mahabharata refers to the Kichaka bamboos ...</td>\n",
       "      <td>{'other': ['Mahabharata'], 'location': ['Kicha...</td>\n",
       "    </tr>\n",
       "    <tr>\n",
       "      <th>23</th>\n",
       "      <td>In 2007 , he was one of the nominees of BATAS ...</td>\n",
       "      <td>{'</td>\n",
       "    </tr>\n",
       "    <tr>\n",
       "      <th>24</th>\n",
       "      <td>In 2007 , he was one of the nominees of BATAS ...</td>\n",
       "      <td>{'organization</td>\n",
       "    </tr>\n",
       "    <tr>\n",
       "      <th>25</th>\n",
       "      <td>In 2007 , he was one of the nominees of BATAS ...</td>\n",
       "      <td>{'organization':</td>\n",
       "    </tr>\n",
       "    <tr>\n",
       "      <th>26</th>\n",
       "      <td>In 2007 , he was one of the nominees of BATAS ...</td>\n",
       "      <td>{'organization': ['</td>\n",
       "    </tr>\n",
       "    <tr>\n",
       "      <th>27</th>\n",
       "      <td>In 2007 , he was one of the nominees of BATAS ...</td>\n",
       "      <td>{'organization': ['BAT</td>\n",
       "    </tr>\n",
       "    <tr>\n",
       "      <th>28</th>\n",
       "      <td>In 2007 , he was one of the nominees of BATAS ...</td>\n",
       "      <td>{'organization': ['BATAS</td>\n",
       "    </tr>\n",
       "    <tr>\n",
       "      <th>29</th>\n",
       "      <td>In 2007 , he was one of the nominees of BATAS ...</td>\n",
       "      <td>{'organization': ['BATAS']}</td>\n",
       "    </tr>\n",
       "  </tbody>\n",
       "</table>\n",
       "</div>"
      ],
      "text/plain": [
       "                                             sentence  \\\n",
       "0   The Mahabharata refers to the Kichaka bamboos ...   \n",
       "1   The Mahabharata refers to the Kichaka bamboos ...   \n",
       "2   The Mahabharata refers to the Kichaka bamboos ...   \n",
       "3   The Mahabharata refers to the Kichaka bamboos ...   \n",
       "4   The Mahabharata refers to the Kichaka bamboos ...   \n",
       "5   The Mahabharata refers to the Kichaka bamboos ...   \n",
       "6   The Mahabharata refers to the Kichaka bamboos ...   \n",
       "7   The Mahabharata refers to the Kichaka bamboos ...   \n",
       "8   The Mahabharata refers to the Kichaka bamboos ...   \n",
       "9   The Mahabharata refers to the Kichaka bamboos ...   \n",
       "10  The Mahabharata refers to the Kichaka bamboos ...   \n",
       "11  The Mahabharata refers to the Kichaka bamboos ...   \n",
       "12  The Mahabharata refers to the Kichaka bamboos ...   \n",
       "13  The Mahabharata refers to the Kichaka bamboos ...   \n",
       "14  The Mahabharata refers to the Kichaka bamboos ...   \n",
       "15  The Mahabharata refers to the Kichaka bamboos ...   \n",
       "16  The Mahabharata refers to the Kichaka bamboos ...   \n",
       "17  The Mahabharata refers to the Kichaka bamboos ...   \n",
       "18  The Mahabharata refers to the Kichaka bamboos ...   \n",
       "19  The Mahabharata refers to the Kichaka bamboos ...   \n",
       "20  The Mahabharata refers to the Kichaka bamboos ...   \n",
       "21  The Mahabharata refers to the Kichaka bamboos ...   \n",
       "22  The Mahabharata refers to the Kichaka bamboos ...   \n",
       "23  In 2007 , he was one of the nominees of BATAS ...   \n",
       "24  In 2007 , he was one of the nominees of BATAS ...   \n",
       "25  In 2007 , he was one of the nominees of BATAS ...   \n",
       "26  In 2007 , he was one of the nominees of BATAS ...   \n",
       "27  In 2007 , he was one of the nominees of BATAS ...   \n",
       "28  In 2007 , he was one of the nominees of BATAS ...   \n",
       "29  In 2007 , he was one of the nominees of BATAS ...   \n",
       "\n",
       "                                           generation  \n",
       "0                                                  {'  \n",
       "1                                             {'other  \n",
       "2                                           {'other':  \n",
       "3                                        {'other': ['  \n",
       "4                                     {'other': ['Mah  \n",
       "5                                   {'other': ['Mahab  \n",
       "6                                {'other': ['Mahabhar  \n",
       "7                             {'other': ['Mahabharata  \n",
       "8                          {'other': ['Mahabharata'],  \n",
       "9                        {'other': ['Mahabharata'], '  \n",
       "10               {'other': ['Mahabharata'], 'location  \n",
       "11             {'other': ['Mahabharata'], 'location':  \n",
       "12          {'other': ['Mahabharata'], 'location': ['  \n",
       "13         {'other': ['Mahabharata'], 'location': ['K  \n",
       "14      {'other': ['Mahabharata'], 'location': ['Kich  \n",
       "15   {'other': ['Mahabharata'], 'location': ['Kichaka  \n",
       "16  {'other': ['Mahabharata'], 'location': ['Kicha...  \n",
       "17  {'other': ['Mahabharata'], 'location': ['Kicha...  \n",
       "18  {'other': ['Mahabharata'], 'location': ['Kicha...  \n",
       "19  {'other': ['Mahabharata'], 'location': ['Kicha...  \n",
       "20  {'other': ['Mahabharata'], 'location': ['Kicha...  \n",
       "21  {'other': ['Mahabharata'], 'location': ['Kicha...  \n",
       "22  {'other': ['Mahabharata'], 'location': ['Kicha...  \n",
       "23                                                 {'  \n",
       "24                                     {'organization  \n",
       "25                                   {'organization':  \n",
       "26                                {'organization': ['  \n",
       "27                             {'organization': ['BAT  \n",
       "28                           {'organization': ['BATAS  \n",
       "29                        {'organization': ['BATAS']}  "
      ]
     },
     "execution_count": 40,
     "metadata": {},
     "output_type": "execute_result"
    }
   ],
   "source": [
    "df_100_labeled.head(30)"
   ]
  },
  {
   "cell_type": "code",
   "execution_count": 41,
   "id": "054ac4a5",
   "metadata": {},
   "outputs": [],
   "source": [
    "df_100_labeled.to_csv(\"/workspace/datas/few-nerd/supervised/train.sampled.labeled.csv\", index=False)"
   ]
  },
  {
   "cell_type": "markdown",
   "id": "db122310",
   "metadata": {},
   "source": [
    "# Labeling하기"
   ]
  },
  {
   "cell_type": "code",
   "execution_count": 32,
   "id": "e9977f6a",
   "metadata": {},
   "outputs": [],
   "source": [
    "prompt_list = []\n",
    "answer_list = []"
   ]
  },
  {
   "cell_type": "code",
   "execution_count": 37,
   "id": "84e0813d",
   "metadata": {},
   "outputs": [
    {
     "name": "stdout",
     "output_type": "stream",
     "text": [
      "3017\n"
     ]
    }
   ],
   "source": [
    "print(len(df_100_labeled))"
   ]
  },
  {
   "cell_type": "code",
   "execution_count": 34,
   "id": "2a91508b",
   "metadata": {},
   "outputs": [
    {
     "data": {
      "text/html": [
       "<div>\n",
       "<style scoped>\n",
       "    .dataframe tbody tr th:only-of-type {\n",
       "        vertical-align: middle;\n",
       "    }\n",
       "\n",
       "    .dataframe tbody tr th {\n",
       "        vertical-align: top;\n",
       "    }\n",
       "\n",
       "    .dataframe thead th {\n",
       "        text-align: right;\n",
       "    }\n",
       "</style>\n",
       "<table border=\"1\" class=\"dataframe\">\n",
       "  <thead>\n",
       "    <tr style=\"text-align: right;\">\n",
       "      <th></th>\n",
       "      <th>sentence</th>\n",
       "      <th>generation</th>\n",
       "    </tr>\n",
       "  </thead>\n",
       "  <tbody>\n",
       "    <tr>\n",
       "      <th>0</th>\n",
       "      <td>what s the name of tim burton s movie about a ...</td>\n",
       "      <td>{'</td>\n",
       "    </tr>\n",
       "    <tr>\n",
       "      <th>1</th>\n",
       "      <td>what s the name of tim burton s movie about a ...</td>\n",
       "      <td>{'Actor</td>\n",
       "    </tr>\n",
       "    <tr>\n",
       "      <th>2</th>\n",
       "      <td>what s the name of tim burton s movie about a ...</td>\n",
       "      <td>{'Actor':</td>\n",
       "    </tr>\n",
       "    <tr>\n",
       "      <th>3</th>\n",
       "      <td>what s the name of tim burton s movie about a ...</td>\n",
       "      <td>{'Actor': ['</td>\n",
       "    </tr>\n",
       "    <tr>\n",
       "      <th>4</th>\n",
       "      <td>what s the name of tim burton s movie about a ...</td>\n",
       "      <td>{'Actor': ['k</td>\n",
       "    </tr>\n",
       "    <tr>\n",
       "      <th>5</th>\n",
       "      <td>what s the name of tim burton s movie about a ...</td>\n",
       "      <td>{'Actor': ['kurt</td>\n",
       "    </tr>\n",
       "    <tr>\n",
       "      <th>6</th>\n",
       "      <td>what s the name of tim burton s movie about a ...</td>\n",
       "      <td>{'Actor': ['kurt russ</td>\n",
       "    </tr>\n",
       "    <tr>\n",
       "      <th>7</th>\n",
       "      <td>what s the name of tim burton s movie about a ...</td>\n",
       "      <td>{'Actor': ['kurt russell</td>\n",
       "    </tr>\n",
       "    <tr>\n",
       "      <th>8</th>\n",
       "      <td>what s the name of tim burton s movie about a ...</td>\n",
       "      <td>{'Actor': ['kurt russell'],</td>\n",
       "    </tr>\n",
       "    <tr>\n",
       "      <th>9</th>\n",
       "      <td>what s the name of tim burton s movie about a ...</td>\n",
       "      <td>{'Actor': ['kurt russell'], '</td>\n",
       "    </tr>\n",
       "  </tbody>\n",
       "</table>\n",
       "</div>"
      ],
      "text/plain": [
       "                                            sentence  \\\n",
       "0  what s the name of tim burton s movie about a ...   \n",
       "1  what s the name of tim burton s movie about a ...   \n",
       "2  what s the name of tim burton s movie about a ...   \n",
       "3  what s the name of tim burton s movie about a ...   \n",
       "4  what s the name of tim burton s movie about a ...   \n",
       "5  what s the name of tim burton s movie about a ...   \n",
       "6  what s the name of tim burton s movie about a ...   \n",
       "7  what s the name of tim burton s movie about a ...   \n",
       "8  what s the name of tim burton s movie about a ...   \n",
       "9  what s the name of tim burton s movie about a ...   \n",
       "\n",
       "                      generation  \n",
       "0                             {'  \n",
       "1                        {'Actor  \n",
       "2                      {'Actor':  \n",
       "3                   {'Actor': ['  \n",
       "4                  {'Actor': ['k  \n",
       "5               {'Actor': ['kurt  \n",
       "6          {'Actor': ['kurt russ  \n",
       "7       {'Actor': ['kurt russell  \n",
       "8    {'Actor': ['kurt russell'],  \n",
       "9  {'Actor': ['kurt russell'], '  "
      ]
     },
     "execution_count": 34,
     "metadata": {},
     "output_type": "execute_result"
    }
   ],
   "source": [
    "df_100_labeled.iloc[:10]"
   ]
  },
  {
   "cell_type": "code",
   "execution_count": 35,
   "id": "c6acbdea",
   "metadata": {},
   "outputs": [
    {
     "data": {
      "text/plain": [
       "'what s the name of tim burton s movie about a boy and his recently dead dog'"
      ]
     },
     "execution_count": 35,
     "metadata": {},
     "output_type": "execute_result"
    }
   ],
   "source": [
    "df_100_labeled.iloc[0][\"sentence\"]"
   ]
  },
  {
   "cell_type": "markdown",
   "id": "2222a22f",
   "metadata": {},
   "source": [
    "채워야할 레이블: 현재 상태, 다음 상태, 이진 분류 답"
   ]
  },
  {
   "cell_type": "code",
   "execution_count": null,
   "id": "d0d0fc29",
   "metadata": {},
   "outputs": [],
   "source": [
    "prompt_format_a = \"sentence: {0} \\n generation: {1}\\n In this context, there are other entities?\"\n",
    "\n",
    "prompt_format_b = \"sentence: {0} \\n generation: {1}\\n In this context, the entity tagged as {2} is {3}, there are other {2} entities?\""
   ]
  },
  {
   "cell_type": "code",
   "execution_count": null,
   "id": "df3c79d3",
   "metadata": {},
   "outputs": [],
   "source": [
    "sentence = \"Lost Kingdom Adventure is a Sally Corporation Interactive Dark Ride located at four Legoland theme parks around the world .\"\n",
    "\n",
    "generation = \"{'product': ['rugby'], 'person': ['François Chambell\"\n",
    "\n",
    "entity_type = \"person\"\n",
    "\n",
    "cur_entities = \" ['François Chamb\""
   ]
  },
  {
   "cell_type": "code",
   "execution_count": 58,
   "id": "f03eb6ff",
   "metadata": {},
   "outputs": [
    {
     "data": {
      "text/plain": [
       "\"sentence: Lost Kingdom Adventure is a Sally Corporation Interactive Dark Ride located at four Legoland theme parks around the world . \\n generation: {'product': ['rugby'], 'person': ['François Chamb\\n In this context, the entity tagged as person is  ['François Chamb, there are other person entities?\""
      ]
     },
     "execution_count": 58,
     "metadata": {},
     "output_type": "execute_result"
    }
   ],
   "source": [
    "prompt_format_a.format(sentence, generation, entity_type, cur_entities)"
   ]
  },
  {
   "cell_type": "code",
   "execution_count": 42,
   "id": "a3b9b52d",
   "metadata": {},
   "outputs": [
    {
     "data": {
      "text/plain": [
       "\"sentence: Lost Kingdom Adventure is a Sally Corporation Interactive Dark Ride located at four Legoland theme parks around the world . \\n generation: {'product':\\n In this context, there are other entities?\""
      ]
     },
     "execution_count": 42,
     "metadata": {},
     "output_type": "execute_result"
    }
   ],
   "source": [
    "prompt_format_b.format(sentence, generation)"
   ]
  }
 ],
 "metadata": {
  "kernelspec": {
   "display_name": "ailive",
   "language": "python",
   "name": "python3"
  },
  "language_info": {
   "codemirror_mode": {
    "name": "ipython",
    "version": 3
   },
   "file_extension": ".py",
   "mimetype": "text/x-python",
   "name": "python",
   "nbconvert_exporter": "python",
   "pygments_lexer": "ipython3",
   "version": "3.10.13"
  }
 },
 "nbformat": 4,
 "nbformat_minor": 5
}
